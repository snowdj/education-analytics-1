{
 "cells": [
  {
   "cell_type": "code",
   "execution_count": 1,
   "metadata": {
    "collapsed": false
   },
   "outputs": [
    {
     "name": "stdout",
     "output_type": "stream",
     "text": [
      "Populating the interactive namespace from numpy and matplotlib\n"
     ]
    }
   ],
   "source": [
    "import pandas as pd\n",
    "import numpy as np\n",
    "import seaborn as sns\n",
    "sns.set_style(\"dark\")\n",
    "\n",
    "%pylab inline"
   ]
  },
  {
   "cell_type": "code",
   "execution_count": 2,
   "metadata": {
    "collapsed": true
   },
   "outputs": [],
   "source": [
    "engagements = pd.read_csv('daily_engagement.csv')\n",
    "enrollments = pd.read_csv('enrollments.csv')\n",
    "submissions = pd.read_csv('project_submissions.csv')\n",
    "\n",
    "# Remove test accounts\n",
    "udacity_accts = set(enrollments[enrollments['is_udacity'] == True]['account_key'])\n",
    "\n",
    "enrollments = enrollments[enrollments['is_udacity'] == False]\n",
    "engagements = engagements[~engagements['account_key'].isin(udacity_accts)]\n",
    "submissions = submissions[~submissions['account_key'].isin(udacity_accts)]"
   ]
  },
  {
   "cell_type": "code",
   "execution_count": 3,
   "metadata": {
    "collapsed": false
   },
   "outputs": [
    {
     "data": {
      "text/plain": [
       "<matplotlib.axes._subplots.AxesSubplot at 0x266fe4326a0>"
      ]
     },
     "execution_count": 3,
     "metadata": {},
     "output_type": "execute_result"
    },
    {
     "data": {
      "image/png": "[encoded data removed]",
      "text/plain": [
       "<matplotlib.figure.Figure at 0x266ee7e6ac8>"
      ]
     },
     "metadata": {},
     "output_type": "display_data"
    }
   ],
   "source": [
    "# Histogram of total minutes visited per student\n",
    "engagements.groupby('account_key').sum().total_minutes_visited.hist(edgecolor='black')"
   ]
  },
  {
   "cell_type": "code",
   "execution_count": 4,
   "metadata": {
    "collapsed": false
   },
   "outputs": [
    {
     "data": {
      "text/plain": [
       "<matplotlib.axes._subplots.AxesSubplot at 0x26681028c50>"
      ]
     },
     "execution_count": 4,
     "metadata": {},
     "output_type": "execute_result"
    },
    {
     "data": {
      "image/png": "[encoded data removed]",
      "text/plain": [
       "<matplotlib.figure.Figure at 0x266ee8000b8>"
      ]
     },
     "metadata": {},
     "output_type": "display_data"
    }
   ],
   "source": [
    "# Number of submissions per student\n",
    "submissions['account_key'].value_counts().hist(edgecolor='black')"
   ]
  },
  {
   "cell_type": "code",
   "execution_count": 5,
   "metadata": {
    "collapsed": false
   },
   "outputs": [],
   "source": [
    "# Pivot: days as columns, students as rows, time as cells\n",
    "data = engagements.pivot_table(index='account_key', columns='utc_date',\n",
    "                                  values='total_minutes_visited').fillna(0)\n",
    "data = data.reset_index()\n",
    "\n",
    "completed_projects = engagements.groupby('account_key').sum()\\\n",
    "[['total_minutes_visited', 'lessons_completed', 'projects_completed']]\n",
    "\n",
    "data = data.merge(submissions[['assigned_rating', 'account_key']],\n",
    "                        how='left', on='account_key')\n",
    "\n",
    "# Total time in the classroom\n",
    "data['total_minutes'] = data.sum(axis=1)\n",
    "\n",
    "# Completed projects (not used for machine learning)\n",
    "data['projects'] = completed_projects['projects_completed']\n",
    "\n",
    "# Make \"passed\" a binary variable\n",
    "data['passed'] = np.where((data['assigned_rating'] == 'PASSED') |\\\n",
    "                             (data['assigned_rating'] == 'DISTINCTION'),\n",
    "                            1, 0)\n",
    "\n",
    "# Students can make multiple submissions. If a submission is eventually\n",
    "# accepted, then the student should be marked passing for each previous\n",
    "# submission. This is necessary for machine learning.\n",
    "passing_students = set(data[data['passed'] == 1]['account_key'])\n",
    "data['passed'] = np.where(data['account_key'].isin(passing_students), 1, 0)"
   ]
  },
  {
   "cell_type": "code",
   "execution_count": 6,
   "metadata": {
    "collapsed": false
   },
   "outputs": [],
   "source": [
    "# Collapse all submissions into a single record per student.\n",
    "# This works because of the 'passed' feature we just created.\n",
    "data = data.groupby('account_key').mean()"
   ]
  },
  {
   "cell_type": "code",
   "execution_count": 7,
   "metadata": {
    "collapsed": false
   },
   "outputs": [
    {
     "data": {
      "text/plain": [
       "<matplotlib.axes._subplots.AxesSubplot at 0x266fe3bb9e8>"
      ]
     },
     "execution_count": 7,
     "metadata": {},
     "output_type": "execute_result"
    },
    {
     "data": {
      "image/png": "[encoded data removed]",
      "text/plain": [
       "<matplotlib.figure.Figure at 0x266810c82b0>"
      ]
     },
     "metadata": {},
     "output_type": "display_data"
    }
   ],
   "source": [
    "# Record how many days in a row a student logged in after initially joining\n",
    "\n",
    "def streak(student):\n",
    "    eng_count = []\n",
    "    for i in student:\n",
    "        if i > 0:\n",
    "            eng_count.append(1)\n",
    "        else:\n",
    "            eng_count.append(0)\n",
    "\n",
    "    for ix, val in enumerate(eng_count):\n",
    "        if val > 0:\n",
    "            eng_count = eng_count[ix:]\n",
    "            break\n",
    "\n",
    "    for ix, val in enumerate(eng_count):\n",
    "        if val == 0:\n",
    "            eng_count = eng_count[:ix]\n",
    "            break\n",
    "\n",
    "    return len(eng_count)\n",
    "\n",
    "# You actually don't need to drop due to the way the function works,\n",
    "# but it's a good practice to do it anyway.\n",
    "data['streak'] = data.drop(['passed', 'projects', 'total_minutes'], axis=1).apply(streak, axis=1)\n",
    "\n",
    "data['streak'].hist(bins=15, edgecolor='black')"
   ]
  },
  {
   "cell_type": "code",
   "execution_count": 8,
   "metadata": {
    "collapsed": false
   },
   "outputs": [],
   "source": [
    "# Record number of days the student logged in.\n",
    "data['days_logged_in'] = data[data>0].drop(['total_minutes', 'projects', 'passed', 'streak'],\n",
    "                                           axis=1).count(axis=1)"
   ]
  },
  {
   "cell_type": "code",
   "execution_count": 9,
   "metadata": {
    "collapsed": false
   },
   "outputs": [
    {
     "data": {
      "text/plain": [
       "<matplotlib.axes._subplots.AxesSubplot at 0x266ee800208>"
      ]
     },
     "execution_count": 9,
     "metadata": {},
     "output_type": "execute_result"
    },
    {
     "data": {
      "image/png": "[encoded data removed]",
      "text/plain": [
       "<matplotlib.figure.Figure at 0x266fe3f0c88>"
      ]
     },
     "metadata": {},
     "output_type": "display_data"
    }
   ],
   "source": [
    "sns.boxplot(y='days_logged_in', x='passed', data=data)"
   ]
  },
  {
   "cell_type": "markdown",
   "metadata": {},
   "source": [
    "# Machine Learning"
   ]
  },
  {
   "cell_type": "code",
   "execution_count": 10,
   "metadata": {
    "collapsed": false
   },
   "outputs": [
    {
     "data": {
      "text/plain": [
       "(0.96558326666355965, 0.006577374322155132)"
      ]
     },
     "execution_count": 10,
     "metadata": {},
     "output_type": "execute_result"
    }
   ],
   "source": [
    "from sklearn.model_selection import cross_val_score\n",
    "from sklearn.linear_model import LogisticRegression\n",
    "from xgboost import XGBClassifier\n",
    "\n",
    "# Shuffle (just in case)\n",
    "data = data.sample(frac=1.0).fillna(0)\n",
    "\n",
    "# All we'll look at is total time, days logged in, and initial streak\n",
    "x = data[['days_logged_in', 'total_minutes', 'streak']]\n",
    "y = data['passed']\n",
    "\n",
    "clf = LogisticRegression()\n",
    "\n",
    "cv = cross_val_score(clf, x, y, scoring='roc_auc', cv=4)\n",
    "\n",
    "cv.mean(), cv.std()"
   ]
  },
  {
   "cell_type": "code",
   "execution_count": 11,
   "metadata": {
    "collapsed": false
   },
   "outputs": [
    {
     "data": {
      "text/plain": [
       "(0.96644867916174726, 0.0073332237731457504)"
      ]
     },
     "execution_count": 11,
     "metadata": {},
     "output_type": "execute_result"
    }
   ],
   "source": [
    "# XGBoost isn't much better!\n",
    "\n",
    "clf = XGBClassifier(max_depth=2)\n",
    "\n",
    "cv = cross_val_score(clf, x, y, scoring='roc_auc', cv=4)\n",
    "\n",
    "cv.mean(), cv.std()"
   ]
  },
  {
   "cell_type": "code",
   "execution_count": null,
   "metadata": {
    "collapsed": true
   },
   "outputs": [],
   "source": [
    "# Code sandbox below (ignore!)"
   ]
  },
  {
   "cell_type": "code",
   "execution_count": null,
   "metadata": {
    "collapsed": false
   },
   "outputs": [],
   "source": [
    "engagements_sum = engagements.groupby('account_key').sum()\n",
    "engagements_sum.columns = ['e_sum_' + str(i) for i in engagements_sum.columns]\n",
    "engagements_count = engagements.groupby('account_key').count()\n",
    "engagements_count.columns = ['e_count_' + str(i) for i in engagements_count.columns]\n",
    "engagements_mean = engagements.groupby('account_key').mean()\n",
    "engagements_mean.columns = ['e_mean_' + str(i) for i in engagements_mean.columns]\n",
    "\n",
    "engagements_sum = engagements_sum.reset_index()\n",
    "engagements_count = engagements_count.reset_index()\n",
    "engagements_mean = engagements_mean.reset_index()"
   ]
  },
  {
   "cell_type": "code",
   "execution_count": null,
   "metadata": {
    "collapsed": false
   },
   "outputs": [],
   "source": []
  },
  {
   "cell_type": "code",
   "execution_count": null,
   "metadata": {
    "collapsed": false
   },
   "outputs": [],
   "source": [
    "enrollments = enrollments.merge(engagements_sum, how='outer', on='account_key')\n",
    "enrollments = enrollments.merge(engagements_count, how='outer', on='account_key')\n",
    "# enrollments = enrollments.merge(engagements_mean, how='outer', on='account_key')"
   ]
  },
  {
   "cell_type": "code",
   "execution_count": null,
   "metadata": {
    "collapsed": false
   },
   "outputs": [],
   "source": [
    "submissions = submissions.merge(enrollments, how='inner', on='account_key')\n",
    "\n",
    "data = submissions.copy()\n",
    "data = data[data.lesson_key == 3176718735]\n",
    "for i in data.drop('assigned_rating', axis=1).columns:\n",
    "    #if 'e_' not in i: del data[i]\n",
    "    if 'projects_com' in i: del data[i]\n",
    "    elif data[i].nunique() == 1: del data[i]"
   ]
  },
  {
   "cell_type": "code",
   "execution_count": null,
   "metadata": {
    "collapsed": false
   },
   "outputs": [],
   "source": [
    "y = np.where((data['assigned_rating'] == 'PASSED') |\\\n",
    "             (data['assigned_rating'] == 'DISTINCTION'),\n",
    "              1, 0)\n",
    "x = data.select_dtypes('number')"
   ]
  },
  {
   "cell_type": "code",
   "execution_count": null,
   "metadata": {
    "collapsed": false
   },
   "outputs": [],
   "source": [
    "from sklearn.model_selection import cross_val_score\n",
    "from xgboost import XGBRegressor\n",
    "\n",
    "xg = XGBRegressor(max_depth=2)\n",
    "\n",
    "cv = cross_val_score(xg, x, y, scoring='roc_auc', cv=4)\n",
    "\n",
    "cv.mean(), cv.std()"
   ]
  },
  {
   "cell_type": "code",
   "execution_count": null,
   "metadata": {
    "collapsed": false
   },
   "outputs": [],
   "source": [
    "from sklearn.model_selection import cross_val_score\n",
    "from sklearn.linear_model import LogisticRegression\n",
    "\n",
    "xg = LogisticRegression()\n",
    "\n",
    "cv = cross_val_score(xg, x.fillna(x.median()), y, scoring='roc_auc', cv=4)\n",
    "\n",
    "cv.mean(), cv.std()"
   ]
  },
  {
   "cell_type": "code",
   "execution_count": null,
   "metadata": {
    "collapsed": false
   },
   "outputs": [],
   "source": [
    "from sklearn.model_selection import cross_val_score\n",
    "from sklearn.tree import DecisionTreeClassifier\n",
    "\n",
    "xg = DecisionTreeClassifier(max_depth=3)\n",
    "\n",
    "cv = cross_val_score(xg, x.fillna(x.median()), y, scoring='roc_auc', cv=4)\n",
    "\n",
    "cv.mean(), cv.std()"
   ]
  },
  {
   "cell_type": "code",
   "execution_count": null,
   "metadata": {
    "collapsed": false
   },
   "outputs": [],
   "source": [
    "data.shape"
   ]
  },
  {
   "cell_type": "code",
   "execution_count": null,
   "metadata": {
    "collapsed": false
   },
   "outputs": [],
   "source": [
    "submissions"
   ]
  },
  {
   "cell_type": "code",
   "execution_count": null,
   "metadata": {
    "collapsed": true
   },
   "outputs": [],
   "source": []
  }
 ],
 "metadata": {
  "anaconda-cloud": {},
  "kernelspec": {
   "display_name": "Python 3",
   "language": "python",
   "name": "python3"
  },
  "language_info": {
   "codemirror_mode": {
    "name": "ipython",
    "version": 3
   },
   "file_extension": ".py",
   "mimetype": "text/x-python",
   "name": "python",
   "nbconvert_exporter": "python",
   "pygments_lexer": "ipython3",
   "version": "3.6.0"
  }
 },
 "nbformat": 4,
 "nbformat_minor": 1
}
