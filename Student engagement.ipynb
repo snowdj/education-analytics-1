{
 "cells": [
  {
   "cell_type": "code",
   "execution_count": 1,
   "metadata": {
    "collapsed": true
   },
   "outputs": [],
   "source": [
    "import pandas as pd\n",
    "import numpy as np"
   ]
  },
  {
   "cell_type": "code",
   "execution_count": null,
   "metadata": {
    "collapsed": true
   },
   "outputs": [],
   "source": []
  },
  {
   "cell_type": "code",
   "execution_count": 118,
   "metadata": {
    "collapsed": true
   },
   "outputs": [],
   "source": [
    "engagements = pd.read_csv('daily_engagement.csv')\n",
    "enrollments = pd.read_csv('enrollments.csv')\n",
    "submissions = pd.read_csv('project_submissions.csv')\n",
    "\n",
    "# Remove test accounts\n",
    "enrollments = enrollments[enrollments['is_udacity'] == False]"
   ]
  },
  {
   "cell_type": "code",
   "execution_count": 119,
   "metadata": {
    "collapsed": false
   },
   "outputs": [],
   "source": [
    "engagements_sum = engagements.groupby('account_key').sum()\n",
    "engagements_sum.columns = ['e_sum_' + str(i) for i in engagements_sum.columns]\n",
    "engagements_count = engagements.groupby('account_key').count()\n",
    "engagements_count.columns = ['e_count_' + str(i) for i in engagements_count.columns]"
   ]
  },
  {
   "cell_type": "code",
   "execution_count": 125,
   "metadata": {
    "collapsed": false
   },
   "outputs": [],
   "source": [
    "engagements_sum = engagements_sum.reset_index()\n",
    "engagements_count = engagements_count.reset_index()"
   ]
  },
  {
   "cell_type": "code",
   "execution_count": 127,
   "metadata": {
    "collapsed": false
   },
   "outputs": [],
   "source": [
    "enrollments = enrollments.merge(engagements_sum, how='outer', on='account_key')"
   ]
  },
  {
   "cell_type": "code",
   "execution_count": 128,
   "metadata": {
    "collapsed": true
   },
   "outputs": [],
   "source": [
    "enrollments = enrollments.merge(engagements_count, how='outer', on='account_key')"
   ]
  },
  {
   "cell_type": "code",
   "execution_count": 129,
   "metadata": {
    "collapsed": false
   },
   "outputs": [],
   "source": [
    "submissions = submissions.merge(enrollments, how='inner', on='account_key')\n",
    "\n",
    "data = submissions.copy()\n",
    "data = data[data.lesson_key == 3176718735]\n",
    "for i in data.drop('assigned_rating', axis=1).columns:\n",
    "    #if 'e_' not in i: del data[i]\n",
    "    if 'projects_com' in i: del data[i]\n",
    "    elif data[i].nunique() == 1: del data[i]"
   ]
  },
  {
   "cell_type": "code",
   "execution_count": 130,
   "metadata": {
    "collapsed": false
   },
   "outputs": [],
   "source": [
    "y = np.where((data['assigned_rating'] == 'PASSED') |\\\n",
    "             (data['assigned_rating'] == 'DISTINCTION'),\n",
    "              1, 0)\n",
    "x = data.select_dtypes('number')"
   ]
  },
  {
   "cell_type": "code",
   "execution_count": 131,
   "metadata": {
    "collapsed": false
   },
   "outputs": [
    {
     "data": {
      "text/plain": [
       "(0.55806347754029817, 0.0096604869025730417)"
      ]
     },
     "execution_count": 131,
     "metadata": {},
     "output_type": "execute_result"
    }
   ],
   "source": [
    "from sklearn.model_selection import cross_val_score\n",
    "from xgboost import XGBRegressor\n",
    "\n",
    "xg = XGBRegressor(max_depth=2)\n",
    "\n",
    "cv = cross_val_score(xg, x, y, scoring='roc_auc', cv=4\n",
    "                    )\n",
    "\n",
    "cv.mean(), cv.std()"
   ]
  },
  {
   "cell_type": "code",
   "execution_count": 132,
   "metadata": {
    "collapsed": false
   },
   "outputs": [
    {
     "data": {
      "text/plain": [
       "(0.54814087230617903, 0.020394817035493781)"
      ]
     },
     "execution_count": 132,
     "metadata": {},
     "output_type": "execute_result"
    }
   ],
   "source": [
    "from sklearn.model_selection import cross_val_score\n",
    "from sklearn.linear_model import LogisticRegression\n",
    "\n",
    "xg = LogisticRegression()\n",
    "\n",
    "cv = cross_val_score(xg, x.fillna(x.median()), y, scoring='roc_auc', cv=4)\n",
    "\n",
    "cv.mean(), cv.std()"
   ]
  },
  {
   "cell_type": "code",
   "execution_count": 117,
   "metadata": {
    "collapsed": false
   },
   "outputs": [
    {
     "data": {
      "text/plain": [
       "(0.57255552169228241, 0.012475391879279093)"
      ]
     },
     "execution_count": 117,
     "metadata": {},
     "output_type": "execute_result"
    }
   ],
   "source": [
    "from sklearn.model_selection import cross_val_score\n",
    "from sklearn.tree import DecisionTreeClassifier\n",
    "\n",
    "xg = DecisionTreeClassifier(max_depth=3)\n",
    "\n",
    "cv = cross_val_score(xg, x.fillna(x.median()), y, scoring='roc_auc', cv=4)\n",
    "\n",
    "cv.mean(), cv.std()"
   ]
  },
  {
   "cell_type": "code",
   "execution_count": 133,
   "metadata": {
    "collapsed": false
   },
   "outputs": [
    {
     "data": {
      "text/plain": [
       "(1941, 17)"
      ]
     },
     "execution_count": 133,
     "metadata": {},
     "output_type": "execute_result"
    }
   ],
   "source": [
    "data.shape"
   ]
  },
  {
   "cell_type": "code",
   "execution_count": null,
   "metadata": {
    "collapsed": true
   },
   "outputs": [],
   "source": [
    "enrollments"
   ]
  }
 ],
 "metadata": {
  "anaconda-cloud": {},
  "kernelspec": {
   "display_name": "Python [conda root]",
   "language": "python",
   "name": "conda-root-py"
  },
  "language_info": {
   "codemirror_mode": {
    "name": "ipython",
    "version": 3
   },
   "file_extension": ".py",
   "mimetype": "text/x-python",
   "name": "python",
   "nbconvert_exporter": "python",
   "pygments_lexer": "ipython3",
   "version": "3.5.2"
  }
 },
 "nbformat": 4,
 "nbformat_minor": 1
}
