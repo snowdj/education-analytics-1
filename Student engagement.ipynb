{
 "cells": [
  {
   "cell_type": "code",
   "execution_count": 1,
   "metadata": {
    "collapsed": false
   },
   "outputs": [
    {
     "name": "stdout",
     "output_type": "stream",
     "text": [
      "Populating the interactive namespace from numpy and matplotlib\n"
     ]
    }
   ],
   "source": [
    "import pandas as pd\n",
    "import numpy as np\n",
    "import seaborn as sns\n",
    "sns.set_style(\"dark\")\n",
    "\n",
    "%pylab inline"
   ]
  },
  {
   "cell_type": "code",
   "execution_count": 2,
   "metadata": {
    "collapsed": true
   },
   "outputs": [],
   "source": [
    "engagements = pd.read_csv('daily_engagement.csv')\n",
    "enrollments = pd.read_csv('enrollments.csv')\n",
    "submissions = pd.read_csv('project_submissions.csv')\n",
    "\n",
    "# Remove test accounts\n",
    "udacity_accts = set(enrollments[enrollments['is_udacity'] == True]['account_key'])\n",
    "\n",
    "enrollments = enrollments[enrollments['is_udacity'] == False]\n",
    "engagements = engagements[~engagements['account_key'].isin(udacity_accts)]\n",
    "submissions = submissions[~submissions['account_key'].isin(udacity_accts)]"
   ]
  },
  {
   "cell_type": "code",
   "execution_count": 3,
   "metadata": {
    "collapsed": false
   },
   "outputs": [
    {
     "data": {
      "text/plain": [
       "<matplotlib.axes._subplots.AxesSubplot at 0x112e210d710>"
      ]
     },
     "execution_count": 3,
     "metadata": {},
     "output_type": "execute_result"
    },
    {
     "data": {
      "image/png": "[encoded data removed]",
      "text/plain": [
       "<matplotlib.figure.Figure at 0x112d24db1d0>"
      ]
     },
     "metadata": {},
     "output_type": "display_data"
    }
   ],
   "source": [
    "# Histogram of total minutes visited per student\n",
    "engagements.groupby('account_key').sum().total_minutes_visited.hist(edgecolor='black')"
   ]
  },
  {
   "cell_type": "code",
   "execution_count": 4,
   "metadata": {
    "collapsed": false
   },
   "outputs": [
    {
     "data": {
      "text/plain": [
       "<matplotlib.axes._subplots.AxesSubplot at 0x112e221e0b8>"
      ]
     },
     "execution_count": 4,
     "metadata": {},
     "output_type": "execute_result"
    },
    {
     "data": {
      "image/png": "[encoded data removed]",
      "text/plain": [
       "<matplotlib.figure.Figure at 0x112d9a264a8>"
      ]
     },
     "metadata": {},
     "output_type": "display_data"
    }
   ],
   "source": [
    "# Number of submissions per student\n",
    "submissions['account_key'].value_counts().hist(edgecolor='black')"
   ]
  },
  {
   "cell_type": "code",
   "execution_count": 5,
   "metadata": {
    "collapsed": false
   },
   "outputs": [],
   "source": [
    "# Pivot: days as columns, students as rows, time as cells\n",
    "data = engagements.pivot_table(index='account_key', columns='utc_date',\n",
    "                                  values='total_minutes_visited').fillna(0)\n",
    "data = data.reset_index()\n",
    "\n",
    "completed_projects = engagements.groupby('account_key').sum()\\\n",
    "[['total_minutes_visited', 'lessons_completed', 'projects_completed']]\n",
    "\n",
    "data = data.merge(submissions[['assigned_rating', 'account_key']],\n",
    "                        how='left', on='account_key')\n",
    "\n",
    "# Total time in the classroom\n",
    "data['total_minutes'] = data.sum(axis=1)\n",
    "\n",
    "# Completed projects (not used for machine learning)\n",
    "data['projects'] = completed_projects['projects_completed']\n",
    "\n",
    "# Make \"passed\" a binary variable\n",
    "data['passed'] = np.where((data['assigned_rating'] == 'PASSED') |\\\n",
    "                             (data['assigned_rating'] == 'DISTINCTION'),\n",
    "                            1, 0)\n",
    "\n",
    "# Students can make multiple submissions. If a submission is eventually\n",
    "# accepted, then the student should be marked passing for each previous\n",
    "# submission. This is necessary for machine learning.\n",
    "passing_students = set(data[data['passed'] == 1]['account_key'])\n",
    "data['passed'] = np.where(data['account_key'].isin(passing_students), 1, 0)"
   ]
  },
  {
   "cell_type": "code",
   "execution_count": 6,
   "metadata": {
    "collapsed": false
   },
   "outputs": [],
   "source": [
    "# Collapse all submissions into a single record per student.\n",
    "# This works because of the 'passed' feature we just created.\n",
    "data = data.groupby('account_key').mean()"
   ]
  },
  {
   "cell_type": "code",
   "execution_count": 14,
   "metadata": {
    "collapsed": false
   },
   "outputs": [],
   "source": [
    "eng = data.iloc[0].tolist()\n",
    "\n",
    "def streak(student):\n",
    "    eng_count = []\n",
    "    for i in eng:\n",
    "        if i > 0:\n",
    "            eng_count.append(1)\n",
    "        else:\n",
    "            eng_count.append(0)\n",
    "\n",
    "    for ix, val in enumerate(eng_count):\n",
    "        if val > 0:\n",
    "            eng_count = eng_count[ix:]\n",
    "            break\n",
    "\n",
    "    for ix, val in enumerate(eng_count):\n",
    "        if val == 0:\n",
    "            eng_count = eng_count[:ix]\n",
    "            break\n",
    "\n",
    "    return len(eng_count)"
   ]
  },
  {
   "cell_type": "code",
   "execution_count": 15,
   "metadata": {
    "collapsed": false
   },
   "outputs": [
    {
     "data": {
      "text/plain": [
       "[1, 1, 1, 1, 1, 1, 1]"
      ]
     },
     "execution_count": 15,
     "metadata": {},
     "output_type": "execute_result"
    }
   ],
   "source": [
    "eng_count"
   ]
  },
  {
   "cell_type": "code",
   "execution_count": 6,
   "metadata": {
    "collapsed": false
   },
   "outputs": [],
   "source": [
    "# Record number of days the student logged in.\n",
    "data['days_logged_in'] = data[data>0].drop(['total_minutes', 'projects', 'passed'],\n",
    "                                           axis=1).count(axis=1)"
   ]
  },
  {
   "cell_type": "code",
   "execution_count": 54,
   "metadata": {
    "collapsed": false
   },
   "outputs": [
    {
     "data": {
      "text/plain": [
       "<matplotlib.axes._subplots.AxesSubplot at 0x10deb989978>"
      ]
     },
     "execution_count": 54,
     "metadata": {},
     "output_type": "execute_result"
    },
    {
     "data": {
      "image/png": "[encoded data removed]",
      "text/plain": [
       "<matplotlib.figure.Figure at 0x10deb8a3748>"
      ]
     },
     "metadata": {},
     "output_type": "display_data"
    }
   ],
   "source": [
    "sns.boxplot(y='days_logged_in', x='passed', data=data)"
   ]
  },
  {
   "cell_type": "markdown",
   "metadata": {},
   "source": [
    "# Machine Learning"
   ]
  },
  {
   "cell_type": "code",
   "execution_count": 55,
   "metadata": {
    "collapsed": false
   },
   "outputs": [
    {
     "data": {
      "text/plain": [
       "(0.96241782788583019, 0.014868232777194958)"
      ]
     },
     "execution_count": 55,
     "metadata": {},
     "output_type": "execute_result"
    }
   ],
   "source": [
    "from sklearn.model_selection import cross_val_score\n",
    "from sklearn.linear_model import LogisticRegression\n",
    "from xgboost import XGBClassifier\n",
    "\n",
    "# Shuffle (just in case)\n",
    "data = data.sample(frac=1.0).fillna(0)\n",
    "\n",
    "# All we'll look at is total time and days logged in\n",
    "x = data[['days_logged_in', 'total_minutes']]\n",
    "y = data['passed']\n",
    "\n",
    "clf = LogisticRegression()\n",
    "\n",
    "cv = cross_val_score(clf, x, y, scoring='roc_auc', cv=4)\n",
    "\n",
    "cv.mean(), cv.std()"
   ]
  },
  {
   "cell_type": "code",
   "execution_count": 61,
   "metadata": {
    "collapsed": false
   },
   "outputs": [
    {
     "data": {
      "text/plain": [
       "(0.96276100730907854, 0.018904147111033009)"
      ]
     },
     "execution_count": 61,
     "metadata": {},
     "output_type": "execute_result"
    }
   ],
   "source": [
    "# XGBoost isn't really any better!\n",
    "\n",
    "clf = XGBClassifier(max_depth=2)\n",
    "\n",
    "cv = cross_val_score(clf, x, y, scoring='roc_auc', cv=4)\n",
    "\n",
    "cv.mean(), cv.std()"
   ]
  },
  {
   "cell_type": "code",
   "execution_count": null,
   "metadata": {
    "collapsed": true
   },
   "outputs": [],
   "source": [
    "# Code sandbox below (ignore!)"
   ]
  },
  {
   "cell_type": "code",
   "execution_count": 174,
   "metadata": {
    "collapsed": false
   },
   "outputs": [],
   "source": [
    "engagements_sum = engagements.groupby('account_key').sum()\n",
    "engagements_sum.columns = ['e_sum_' + str(i) for i in engagements_sum.columns]\n",
    "engagements_count = engagements.groupby('account_key').count()\n",
    "engagements_count.columns = ['e_count_' + str(i) for i in engagements_count.columns]\n",
    "engagements_mean = engagements.groupby('account_key').mean()\n",
    "engagements_mean.columns = ['e_mean_' + str(i) for i in engagements_mean.columns]\n",
    "\n",
    "engagements_sum = engagements_sum.reset_index()\n",
    "engagements_count = engagements_count.reset_index()\n",
    "engagements_mean = engagements_mean.reset_index()"
   ]
  },
  {
   "cell_type": "code",
   "execution_count": 12,
   "metadata": {
    "collapsed": false
   },
   "outputs": [
    {
     "data": {
      "text/plain": [
       "<matplotlib.axes._subplots.AxesSubplot at 0x10de40a89e8>"
      ]
     },
     "execution_count": 12,
     "metadata": {},
     "output_type": "execute_result"
    },
    {
     "data": {
      "image/png": "[encoded data removed]",
      "text/plain": [
       "<matplotlib.figure.Figure at 0x10de4095e80>"
      ]
     },
     "metadata": {},
     "output_type": "display_data"
    }
   ],
   "source": []
  },
  {
   "cell_type": "code",
   "execution_count": 176,
   "metadata": {
    "collapsed": false
   },
   "outputs": [],
   "source": [
    "enrollments = enrollments.merge(engagements_sum, how='outer', on='account_key')\n",
    "enrollments = enrollments.merge(engagements_count, how='outer', on='account_key')\n",
    "# enrollments = enrollments.merge(engagements_mean, how='outer', on='account_key')"
   ]
  },
  {
   "cell_type": "code",
   "execution_count": 177,
   "metadata": {
    "collapsed": false
   },
   "outputs": [],
   "source": [
    "submissions = submissions.merge(enrollments, how='inner', on='account_key')\n",
    "\n",
    "data = submissions.copy()\n",
    "data = data[data.lesson_key == 3176718735]\n",
    "for i in data.drop('assigned_rating', axis=1).columns:\n",
    "    #if 'e_' not in i: del data[i]\n",
    "    if 'projects_com' in i: del data[i]\n",
    "    elif data[i].nunique() == 1: del data[i]"
   ]
  },
  {
   "cell_type": "code",
   "execution_count": 178,
   "metadata": {
    "collapsed": false
   },
   "outputs": [],
   "source": [
    "y = np.where((data['assigned_rating'] == 'PASSED') |\\\n",
    "             (data['assigned_rating'] == 'DISTINCTION'),\n",
    "              1, 0)\n",
    "x = data.select_dtypes('number')"
   ]
  },
  {
   "cell_type": "code",
   "execution_count": 179,
   "metadata": {
    "collapsed": false
   },
   "outputs": [
    {
     "data": {
      "text/plain": [
       "(0.55806347754029817, 0.0096604869025730417)"
      ]
     },
     "execution_count": 179,
     "metadata": {},
     "output_type": "execute_result"
    }
   ],
   "source": [
    "from sklearn.model_selection import cross_val_score\n",
    "from xgboost import XGBRegressor\n",
    "\n",
    "xg = XGBRegressor(max_depth=2)\n",
    "\n",
    "cv = cross_val_score(xg, x, y, scoring='roc_auc', cv=4)\n",
    "\n",
    "cv.mean(), cv.std()"
   ]
  },
  {
   "cell_type": "code",
   "execution_count": 180,
   "metadata": {
    "collapsed": false
   },
   "outputs": [
    {
     "data": {
      "text/plain": [
       "(0.54814087230617903, 0.020394817035493781)"
      ]
     },
     "execution_count": 180,
     "metadata": {},
     "output_type": "execute_result"
    }
   ],
   "source": [
    "from sklearn.model_selection import cross_val_score\n",
    "from sklearn.linear_model import LogisticRegression\n",
    "\n",
    "xg = LogisticRegression()\n",
    "\n",
    "cv = cross_val_score(xg, x.fillna(x.median()), y, scoring='roc_auc', cv=4)\n",
    "\n",
    "cv.mean(), cv.std()"
   ]
  },
  {
   "cell_type": "code",
   "execution_count": 181,
   "metadata": {
    "collapsed": false
   },
   "outputs": [
    {
     "data": {
      "text/plain": [
       "(0.56049947056957539, 0.015848446398880483)"
      ]
     },
     "execution_count": 181,
     "metadata": {},
     "output_type": "execute_result"
    }
   ],
   "source": [
    "from sklearn.model_selection import cross_val_score\n",
    "from sklearn.tree import DecisionTreeClassifier\n",
    "\n",
    "xg = DecisionTreeClassifier(max_depth=3)\n",
    "\n",
    "cv = cross_val_score(xg, x.fillna(x.median()), y, scoring='roc_auc', cv=4)\n",
    "\n",
    "cv.mean(), cv.std()"
   ]
  },
  {
   "cell_type": "code",
   "execution_count": 169,
   "metadata": {
    "collapsed": false
   },
   "outputs": [
    {
     "data": {
      "text/plain": [
       "(1941, 17)"
      ]
     },
     "execution_count": 169,
     "metadata": {},
     "output_type": "execute_result"
    }
   ],
   "source": [
    "data.shape"
   ]
  },
  {
   "cell_type": "code",
   "execution_count": 261,
   "metadata": {
    "collapsed": false
   },
   "outputs": [
    {
     "data": {
      "text/html": [
       "<div>\n",
       "<style scoped>\n",
       "    .dataframe tbody tr th:only-of-type {\n",
       "        vertical-align: middle;\n",
       "    }\n",
       "\n",
       "    .dataframe tbody tr th {\n",
       "        vertical-align: top;\n",
       "    }\n",
       "\n",
       "    .dataframe thead th {\n",
       "        text-align: right;\n",
       "    }\n",
       "</style>\n",
       "<table border=\"1\" class=\"dataframe\">\n",
       "  <thead>\n",
       "    <tr style=\"text-align: right;\">\n",
       "      <th></th>\n",
       "      <th>creation_date</th>\n",
       "      <th>completion_date</th>\n",
       "      <th>assigned_rating</th>\n",
       "      <th>account_key</th>\n",
       "      <th>lesson_key</th>\n",
       "      <th>processing_state</th>\n",
       "    </tr>\n",
       "  </thead>\n",
       "  <tbody>\n",
       "    <tr>\n",
       "      <th>0</th>\n",
       "      <td>2015-01-14</td>\n",
       "      <td>2015-01-16</td>\n",
       "      <td>UNGRADED</td>\n",
       "      <td>256</td>\n",
       "      <td>3176718735</td>\n",
       "      <td>EVALUATED</td>\n",
       "    </tr>\n",
       "    <tr>\n",
       "      <th>1</th>\n",
       "      <td>2015-01-10</td>\n",
       "      <td>2015-01-13</td>\n",
       "      <td>INCOMPLETE</td>\n",
       "      <td>256</td>\n",
       "      <td>3176718735</td>\n",
       "      <td>EVALUATED</td>\n",
       "    </tr>\n",
       "    <tr>\n",
       "      <th>2</th>\n",
       "      <td>2015-01-20</td>\n",
       "      <td>2015-01-20</td>\n",
       "      <td>PASSED</td>\n",
       "      <td>256</td>\n",
       "      <td>3176718735</td>\n",
       "      <td>EVALUATED</td>\n",
       "    </tr>\n",
       "    <tr>\n",
       "      <th>3</th>\n",
       "      <td>2015-03-10</td>\n",
       "      <td>2015-03-13</td>\n",
       "      <td>PASSED</td>\n",
       "      <td>434</td>\n",
       "      <td>3176718735</td>\n",
       "      <td>EVALUATED</td>\n",
       "    </tr>\n",
       "    <tr>\n",
       "      <th>4</th>\n",
       "      <td>2015-02-17</td>\n",
       "      <td>2015-03-03</td>\n",
       "      <td>INCOMPLETE</td>\n",
       "      <td>434</td>\n",
       "      <td>3176718735</td>\n",
       "      <td>EVALUATED</td>\n",
       "    </tr>\n",
       "    <tr>\n",
       "      <th>5</th>\n",
       "      <td>2015-04-06</td>\n",
       "      <td>2015-04-06</td>\n",
       "      <td>INCOMPLETE</td>\n",
       "      <td>381</td>\n",
       "      <td>3176718735</td>\n",
       "      <td>EVALUATED</td>\n",
       "    </tr>\n",
       "    <tr>\n",
       "      <th>6</th>\n",
       "      <td>2015-07-26</td>\n",
       "      <td>2015-07-28</td>\n",
       "      <td>INCOMPLETE</td>\n",
       "      <td>381</td>\n",
       "      <td>3165188753</td>\n",
       "      <td>EVALUATED</td>\n",
       "    </tr>\n",
       "    <tr>\n",
       "      <th>7</th>\n",
       "      <td>2015-05-31</td>\n",
       "      <td>2015-06-02</td>\n",
       "      <td>PASSED</td>\n",
       "      <td>381</td>\n",
       "      <td>3168208620</td>\n",
       "      <td>EVALUATED</td>\n",
       "    </tr>\n",
       "    <tr>\n",
       "      <th>8</th>\n",
       "      <td>2015-07-29</td>\n",
       "      <td>2015-07-29</td>\n",
       "      <td>PASSED</td>\n",
       "      <td>381</td>\n",
       "      <td>3165188753</td>\n",
       "      <td>EVALUATED</td>\n",
       "    </tr>\n",
       "    <tr>\n",
       "      <th>9</th>\n",
       "      <td>2015-07-29</td>\n",
       "      <td>2015-07-29</td>\n",
       "      <td>INCOMPLETE</td>\n",
       "      <td>381</td>\n",
       "      <td>3165188753</td>\n",
       "      <td>EVALUATED</td>\n",
       "    </tr>\n",
       "    <tr>\n",
       "      <th>10</th>\n",
       "      <td>2015-04-07</td>\n",
       "      <td>2015-04-13</td>\n",
       "      <td>PASSED</td>\n",
       "      <td>381</td>\n",
       "      <td>3176718735</td>\n",
       "      <td>EVALUATED</td>\n",
       "    </tr>\n",
       "    <tr>\n",
       "      <th>11</th>\n",
       "      <td>2015-04-06</td>\n",
       "      <td>2015-04-06</td>\n",
       "      <td>INCOMPLETE</td>\n",
       "      <td>381</td>\n",
       "      <td>3176718735</td>\n",
       "      <td>EVALUATED</td>\n",
       "    </tr>\n",
       "    <tr>\n",
       "      <th>12</th>\n",
       "      <td>2015-04-05</td>\n",
       "      <td>2015-04-05</td>\n",
       "      <td>INCOMPLETE</td>\n",
       "      <td>381</td>\n",
       "      <td>3176718735</td>\n",
       "      <td>EVALUATED</td>\n",
       "    </tr>\n",
       "    <tr>\n",
       "      <th>13</th>\n",
       "      <td>2015-01-13</td>\n",
       "      <td>2015-01-23</td>\n",
       "      <td>PASSED</td>\n",
       "      <td>378</td>\n",
       "      <td>3176718735</td>\n",
       "      <td>EVALUATED</td>\n",
       "    </tr>\n",
       "    <tr>\n",
       "      <th>14</th>\n",
       "      <td>2015-03-19</td>\n",
       "      <td>2015-04-02</td>\n",
       "      <td>PASSED</td>\n",
       "      <td>23</td>\n",
       "      <td>3174288624</td>\n",
       "      <td>EVALUATED</td>\n",
       "    </tr>\n",
       "    <tr>\n",
       "      <th>15</th>\n",
       "      <td>2015-01-29</td>\n",
       "      <td>2015-02-11</td>\n",
       "      <td>PASSED</td>\n",
       "      <td>23</td>\n",
       "      <td>3176718735</td>\n",
       "      <td>EVALUATED</td>\n",
       "    </tr>\n",
       "    <tr>\n",
       "      <th>16</th>\n",
       "      <td>2015-01-29</td>\n",
       "      <td>2015-02-03</td>\n",
       "      <td>INCOMPLETE</td>\n",
       "      <td>23</td>\n",
       "      <td>3165188753</td>\n",
       "      <td>EVALUATED</td>\n",
       "    </tr>\n",
       "    <tr>\n",
       "      <th>17</th>\n",
       "      <td>2015-01-08</td>\n",
       "      <td>2015-01-21</td>\n",
       "      <td>INCOMPLETE</td>\n",
       "      <td>23</td>\n",
       "      <td>3176718735</td>\n",
       "      <td>EVALUATED</td>\n",
       "    </tr>\n",
       "    <tr>\n",
       "      <th>18</th>\n",
       "      <td>2014-12-24</td>\n",
       "      <td>2015-01-07</td>\n",
       "      <td>INCOMPLETE</td>\n",
       "      <td>23</td>\n",
       "      <td>3176718735</td>\n",
       "      <td>EVALUATED</td>\n",
       "    </tr>\n",
       "    <tr>\n",
       "      <th>19</th>\n",
       "      <td>2015-02-11</td>\n",
       "      <td>2015-02-25</td>\n",
       "      <td>INCOMPLETE</td>\n",
       "      <td>23</td>\n",
       "      <td>3168208620</td>\n",
       "      <td>EVALUATED</td>\n",
       "    </tr>\n",
       "    <tr>\n",
       "      <th>20</th>\n",
       "      <td>2015-02-26</td>\n",
       "      <td>2015-03-11</td>\n",
       "      <td>PASSED</td>\n",
       "      <td>23</td>\n",
       "      <td>3168208620</td>\n",
       "      <td>EVALUATED</td>\n",
       "    </tr>\n",
       "    <tr>\n",
       "      <th>21</th>\n",
       "      <td>2015-02-06</td>\n",
       "      <td>2015-02-19</td>\n",
       "      <td>PASSED</td>\n",
       "      <td>23</td>\n",
       "      <td>3165188753</td>\n",
       "      <td>EVALUATED</td>\n",
       "    </tr>\n",
       "    <tr>\n",
       "      <th>22</th>\n",
       "      <td>2015-07-23</td>\n",
       "      <td>2015-07-31</td>\n",
       "      <td>INCOMPLETE</td>\n",
       "      <td>616</td>\n",
       "      <td>4110338963</td>\n",
       "      <td>EVALUATED</td>\n",
       "    </tr>\n",
       "    <tr>\n",
       "      <th>23</th>\n",
       "      <td>2015-07-21</td>\n",
       "      <td>2015-07-21</td>\n",
       "      <td>PASSED</td>\n",
       "      <td>616</td>\n",
       "      <td>3184238632</td>\n",
       "      <td>EVALUATED</td>\n",
       "    </tr>\n",
       "    <tr>\n",
       "      <th>24</th>\n",
       "      <td>2015-07-10</td>\n",
       "      <td>2015-07-11</td>\n",
       "      <td>INCOMPLETE</td>\n",
       "      <td>616</td>\n",
       "      <td>3174288624</td>\n",
       "      <td>EVALUATED</td>\n",
       "    </tr>\n",
       "    <tr>\n",
       "      <th>25</th>\n",
       "      <td>2015-07-18</td>\n",
       "      <td>2015-07-18</td>\n",
       "      <td>INCOMPLETE</td>\n",
       "      <td>616</td>\n",
       "      <td>3184238632</td>\n",
       "      <td>EVALUATED</td>\n",
       "    </tr>\n",
       "    <tr>\n",
       "      <th>26</th>\n",
       "      <td>2015-06-11</td>\n",
       "      <td>2015-06-11</td>\n",
       "      <td>INCOMPLETE</td>\n",
       "      <td>616</td>\n",
       "      <td>3176718735</td>\n",
       "      <td>EVALUATED</td>\n",
       "    </tr>\n",
       "    <tr>\n",
       "      <th>27</th>\n",
       "      <td>2015-06-10</td>\n",
       "      <td>2015-06-10</td>\n",
       "      <td>INCOMPLETE</td>\n",
       "      <td>616</td>\n",
       "      <td>3168208620</td>\n",
       "      <td>EVALUATED</td>\n",
       "    </tr>\n",
       "    <tr>\n",
       "      <th>28</th>\n",
       "      <td>2015-07-20</td>\n",
       "      <td>2015-07-21</td>\n",
       "      <td>INCOMPLETE</td>\n",
       "      <td>616</td>\n",
       "      <td>3184238632</td>\n",
       "      <td>EVALUATED</td>\n",
       "    </tr>\n",
       "    <tr>\n",
       "      <th>29</th>\n",
       "      <td>2015-07-14</td>\n",
       "      <td>2015-07-15</td>\n",
       "      <td>PASSED</td>\n",
       "      <td>616</td>\n",
       "      <td>3174288624</td>\n",
       "      <td>EVALUATED</td>\n",
       "    </tr>\n",
       "    <tr>\n",
       "      <th>...</th>\n",
       "      <td>...</td>\n",
       "      <td>...</td>\n",
       "      <td>...</td>\n",
       "      <td>...</td>\n",
       "      <td>...</td>\n",
       "      <td>...</td>\n",
       "    </tr>\n",
       "    <tr>\n",
       "      <th>3612</th>\n",
       "      <td>2015-02-03</td>\n",
       "      <td>2015-02-16</td>\n",
       "      <td>PASSED</td>\n",
       "      <td>591</td>\n",
       "      <td>3176718735</td>\n",
       "      <td>EVALUATED</td>\n",
       "    </tr>\n",
       "    <tr>\n",
       "      <th>3613</th>\n",
       "      <td>2015-01-13</td>\n",
       "      <td>2015-01-22</td>\n",
       "      <td>INCOMPLETE</td>\n",
       "      <td>591</td>\n",
       "      <td>3176718735</td>\n",
       "      <td>EVALUATED</td>\n",
       "    </tr>\n",
       "    <tr>\n",
       "      <th>3614</th>\n",
       "      <td>2014-12-30</td>\n",
       "      <td>2015-01-12</td>\n",
       "      <td>PASSED</td>\n",
       "      <td>261</td>\n",
       "      <td>3176718735</td>\n",
       "      <td>EVALUATED</td>\n",
       "    </tr>\n",
       "    <tr>\n",
       "      <th>3615</th>\n",
       "      <td>2015-01-10</td>\n",
       "      <td>2015-01-23</td>\n",
       "      <td>PASSED</td>\n",
       "      <td>88</td>\n",
       "      <td>3176718735</td>\n",
       "      <td>EVALUATED</td>\n",
       "    </tr>\n",
       "    <tr>\n",
       "      <th>3616</th>\n",
       "      <td>2015-07-27</td>\n",
       "      <td>2015-07-27</td>\n",
       "      <td>PASSED</td>\n",
       "      <td>883</td>\n",
       "      <td>4576183932</td>\n",
       "      <td>EVALUATED</td>\n",
       "    </tr>\n",
       "    <tr>\n",
       "      <th>3617</th>\n",
       "      <td>2015-02-12</td>\n",
       "      <td>2015-02-24</td>\n",
       "      <td>DISTINCTION</td>\n",
       "      <td>151</td>\n",
       "      <td>3176718735</td>\n",
       "      <td>EVALUATED</td>\n",
       "    </tr>\n",
       "    <tr>\n",
       "      <th>3618</th>\n",
       "      <td>2015-08-02</td>\n",
       "      <td>2015-08-02</td>\n",
       "      <td>PASSED</td>\n",
       "      <td>120</td>\n",
       "      <td>3176718735</td>\n",
       "      <td>EVALUATED</td>\n",
       "    </tr>\n",
       "    <tr>\n",
       "      <th>3619</th>\n",
       "      <td>2015-08-01</td>\n",
       "      <td>2015-08-01</td>\n",
       "      <td>INCOMPLETE</td>\n",
       "      <td>120</td>\n",
       "      <td>3176718735</td>\n",
       "      <td>EVALUATED</td>\n",
       "    </tr>\n",
       "    <tr>\n",
       "      <th>3620</th>\n",
       "      <td>2015-02-11</td>\n",
       "      <td>2015-02-27</td>\n",
       "      <td>INCOMPLETE</td>\n",
       "      <td>253</td>\n",
       "      <td>3168208620</td>\n",
       "      <td>EVALUATED</td>\n",
       "    </tr>\n",
       "    <tr>\n",
       "      <th>3621</th>\n",
       "      <td>2015-01-27</td>\n",
       "      <td>2015-02-06</td>\n",
       "      <td>PASSED</td>\n",
       "      <td>253</td>\n",
       "      <td>3176718735</td>\n",
       "      <td>EVALUATED</td>\n",
       "    </tr>\n",
       "    <tr>\n",
       "      <th>3622</th>\n",
       "      <td>2015-03-14</td>\n",
       "      <td>2015-03-26</td>\n",
       "      <td>PASSED</td>\n",
       "      <td>253</td>\n",
       "      <td>3174288624</td>\n",
       "      <td>EVALUATED</td>\n",
       "    </tr>\n",
       "    <tr>\n",
       "      <th>3623</th>\n",
       "      <td>2015-03-08</td>\n",
       "      <td>2015-03-18</td>\n",
       "      <td>PASSED</td>\n",
       "      <td>253</td>\n",
       "      <td>3168208620</td>\n",
       "      <td>EVALUATED</td>\n",
       "    </tr>\n",
       "    <tr>\n",
       "      <th>3624</th>\n",
       "      <td>2015-08-17</td>\n",
       "      <td>2015-08-17</td>\n",
       "      <td>INCOMPLETE</td>\n",
       "      <td>986</td>\n",
       "      <td>4576183932</td>\n",
       "      <td>EVALUATED</td>\n",
       "    </tr>\n",
       "    <tr>\n",
       "      <th>3625</th>\n",
       "      <td>2015-07-14</td>\n",
       "      <td>2015-07-15</td>\n",
       "      <td>PASSED</td>\n",
       "      <td>1000</td>\n",
       "      <td>4576183932</td>\n",
       "      <td>EVALUATED</td>\n",
       "    </tr>\n",
       "    <tr>\n",
       "      <th>3626</th>\n",
       "      <td>2015-07-20</td>\n",
       "      <td>2015-07-21</td>\n",
       "      <td>PASSED</td>\n",
       "      <td>55</td>\n",
       "      <td>3176718735</td>\n",
       "      <td>EVALUATED</td>\n",
       "    </tr>\n",
       "    <tr>\n",
       "      <th>3627</th>\n",
       "      <td>2015-07-15</td>\n",
       "      <td>2015-07-16</td>\n",
       "      <td>INCOMPLETE</td>\n",
       "      <td>55</td>\n",
       "      <td>3176718735</td>\n",
       "      <td>EVALUATED</td>\n",
       "    </tr>\n",
       "    <tr>\n",
       "      <th>3628</th>\n",
       "      <td>2015-03-08</td>\n",
       "      <td>2015-03-16</td>\n",
       "      <td>PASSED</td>\n",
       "      <td>529</td>\n",
       "      <td>3176718735</td>\n",
       "      <td>EVALUATED</td>\n",
       "    </tr>\n",
       "    <tr>\n",
       "      <th>3629</th>\n",
       "      <td>2015-08-18</td>\n",
       "      <td>2015-08-18</td>\n",
       "      <td>PASSED</td>\n",
       "      <td>1263</td>\n",
       "      <td>4576183932</td>\n",
       "      <td>EVALUATED</td>\n",
       "    </tr>\n",
       "    <tr>\n",
       "      <th>3630</th>\n",
       "      <td>2015-01-09</td>\n",
       "      <td>2015-01-14</td>\n",
       "      <td>PASSED</td>\n",
       "      <td>123</td>\n",
       "      <td>3176718735</td>\n",
       "      <td>EVALUATED</td>\n",
       "    </tr>\n",
       "    <tr>\n",
       "      <th>3631</th>\n",
       "      <td>2015-08-14</td>\n",
       "      <td>2015-08-14</td>\n",
       "      <td>PASSED</td>\n",
       "      <td>1110</td>\n",
       "      <td>4576183932</td>\n",
       "      <td>EVALUATED</td>\n",
       "    </tr>\n",
       "    <tr>\n",
       "      <th>3632</th>\n",
       "      <td>2015-07-29</td>\n",
       "      <td>2015-07-29</td>\n",
       "      <td>PASSED</td>\n",
       "      <td>248</td>\n",
       "      <td>3176718735</td>\n",
       "      <td>EVALUATED</td>\n",
       "    </tr>\n",
       "    <tr>\n",
       "      <th>3633</th>\n",
       "      <td>2015-05-05</td>\n",
       "      <td>2015-05-05</td>\n",
       "      <td>PASSED</td>\n",
       "      <td>411</td>\n",
       "      <td>3176718735</td>\n",
       "      <td>EVALUATED</td>\n",
       "    </tr>\n",
       "    <tr>\n",
       "      <th>3634</th>\n",
       "      <td>2015-06-01</td>\n",
       "      <td>2015-06-02</td>\n",
       "      <td>PASSED</td>\n",
       "      <td>547</td>\n",
       "      <td>3168208620</td>\n",
       "      <td>EVALUATED</td>\n",
       "    </tr>\n",
       "    <tr>\n",
       "      <th>3635</th>\n",
       "      <td>2015-04-06</td>\n",
       "      <td>2015-04-13</td>\n",
       "      <td>PASSED</td>\n",
       "      <td>547</td>\n",
       "      <td>3176718735</td>\n",
       "      <td>EVALUATED</td>\n",
       "    </tr>\n",
       "    <tr>\n",
       "      <th>3636</th>\n",
       "      <td>2015-05-03</td>\n",
       "      <td>2015-05-04</td>\n",
       "      <td>INCOMPLETE</td>\n",
       "      <td>722</td>\n",
       "      <td>3176718735</td>\n",
       "      <td>EVALUATED</td>\n",
       "    </tr>\n",
       "    <tr>\n",
       "      <th>3637</th>\n",
       "      <td>2015-01-13</td>\n",
       "      <td>2015-01-22</td>\n",
       "      <td>PASSED</td>\n",
       "      <td>243</td>\n",
       "      <td>3176718735</td>\n",
       "      <td>EVALUATED</td>\n",
       "    </tr>\n",
       "    <tr>\n",
       "      <th>3638</th>\n",
       "      <td>2015-07-07</td>\n",
       "      <td>2015-07-07</td>\n",
       "      <td>INCOMPLETE</td>\n",
       "      <td>771</td>\n",
       "      <td>3176718735</td>\n",
       "      <td>EVALUATED</td>\n",
       "    </tr>\n",
       "    <tr>\n",
       "      <th>3639</th>\n",
       "      <td>2015-08-16</td>\n",
       "      <td>2015-08-16</td>\n",
       "      <td>PASSED</td>\n",
       "      <td>2</td>\n",
       "      <td>3176718735</td>\n",
       "      <td>EVALUATED</td>\n",
       "    </tr>\n",
       "    <tr>\n",
       "      <th>3640</th>\n",
       "      <td>2015-03-03</td>\n",
       "      <td>2015-03-11</td>\n",
       "      <td>PASSED</td>\n",
       "      <td>623</td>\n",
       "      <td>3176718735</td>\n",
       "      <td>EVALUATED</td>\n",
       "    </tr>\n",
       "    <tr>\n",
       "      <th>3641</th>\n",
       "      <td>2015-07-10</td>\n",
       "      <td>2015-07-11</td>\n",
       "      <td>PASSED</td>\n",
       "      <td>1274</td>\n",
       "      <td>4576183932</td>\n",
       "      <td>EVALUATED</td>\n",
       "    </tr>\n",
       "  </tbody>\n",
       "</table>\n",
       "<p>3634 rows × 6 columns</p>\n",
       "</div>"
      ],
      "text/plain": [
       "     creation_date completion_date assigned_rating  account_key  lesson_key  \\\n",
       "0       2015-01-14      2015-01-16        UNGRADED          256  3176718735   \n",
       "1       2015-01-10      2015-01-13      INCOMPLETE          256  3176718735   \n",
       "2       2015-01-20      2015-01-20          PASSED          256  3176718735   \n",
       "3       2015-03-10      2015-03-13          PASSED          434  3176718735   \n",
       "4       2015-02-17      2015-03-03      INCOMPLETE          434  3176718735   \n",
       "5       2015-04-06      2015-04-06      INCOMPLETE          381  3176718735   \n",
       "6       2015-07-26      2015-07-28      INCOMPLETE          381  3165188753   \n",
       "7       2015-05-31      2015-06-02          PASSED          381  3168208620   \n",
       "8       2015-07-29      2015-07-29          PASSED          381  3165188753   \n",
       "9       2015-07-29      2015-07-29      INCOMPLETE          381  3165188753   \n",
       "10      2015-04-07      2015-04-13          PASSED          381  3176718735   \n",
       "11      2015-04-06      2015-04-06      INCOMPLETE          381  3176718735   \n",
       "12      2015-04-05      2015-04-05      INCOMPLETE          381  3176718735   \n",
       "13      2015-01-13      2015-01-23          PASSED          378  3176718735   \n",
       "14      2015-03-19      2015-04-02          PASSED           23  3174288624   \n",
       "15      2015-01-29      2015-02-11          PASSED           23  3176718735   \n",
       "16      2015-01-29      2015-02-03      INCOMPLETE           23  3165188753   \n",
       "17      2015-01-08      2015-01-21      INCOMPLETE           23  3176718735   \n",
       "18      2014-12-24      2015-01-07      INCOMPLETE           23  3176718735   \n",
       "19      2015-02-11      2015-02-25      INCOMPLETE           23  3168208620   \n",
       "20      2015-02-26      2015-03-11          PASSED           23  3168208620   \n",
       "21      2015-02-06      2015-02-19          PASSED           23  3165188753   \n",
       "22      2015-07-23      2015-07-31      INCOMPLETE          616  4110338963   \n",
       "23      2015-07-21      2015-07-21          PASSED          616  3184238632   \n",
       "24      2015-07-10      2015-07-11      INCOMPLETE          616  3174288624   \n",
       "25      2015-07-18      2015-07-18      INCOMPLETE          616  3184238632   \n",
       "26      2015-06-11      2015-06-11      INCOMPLETE          616  3176718735   \n",
       "27      2015-06-10      2015-06-10      INCOMPLETE          616  3168208620   \n",
       "28      2015-07-20      2015-07-21      INCOMPLETE          616  3184238632   \n",
       "29      2015-07-14      2015-07-15          PASSED          616  3174288624   \n",
       "...            ...             ...             ...          ...         ...   \n",
       "3612    2015-02-03      2015-02-16          PASSED          591  3176718735   \n",
       "3613    2015-01-13      2015-01-22      INCOMPLETE          591  3176718735   \n",
       "3614    2014-12-30      2015-01-12          PASSED          261  3176718735   \n",
       "3615    2015-01-10      2015-01-23          PASSED           88  3176718735   \n",
       "3616    2015-07-27      2015-07-27          PASSED          883  4576183932   \n",
       "3617    2015-02-12      2015-02-24     DISTINCTION          151  3176718735   \n",
       "3618    2015-08-02      2015-08-02          PASSED          120  3176718735   \n",
       "3619    2015-08-01      2015-08-01      INCOMPLETE          120  3176718735   \n",
       "3620    2015-02-11      2015-02-27      INCOMPLETE          253  3168208620   \n",
       "3621    2015-01-27      2015-02-06          PASSED          253  3176718735   \n",
       "3622    2015-03-14      2015-03-26          PASSED          253  3174288624   \n",
       "3623    2015-03-08      2015-03-18          PASSED          253  3168208620   \n",
       "3624    2015-08-17      2015-08-17      INCOMPLETE          986  4576183932   \n",
       "3625    2015-07-14      2015-07-15          PASSED         1000  4576183932   \n",
       "3626    2015-07-20      2015-07-21          PASSED           55  3176718735   \n",
       "3627    2015-07-15      2015-07-16      INCOMPLETE           55  3176718735   \n",
       "3628    2015-03-08      2015-03-16          PASSED          529  3176718735   \n",
       "3629    2015-08-18      2015-08-18          PASSED         1263  4576183932   \n",
       "3630    2015-01-09      2015-01-14          PASSED          123  3176718735   \n",
       "3631    2015-08-14      2015-08-14          PASSED         1110  4576183932   \n",
       "3632    2015-07-29      2015-07-29          PASSED          248  3176718735   \n",
       "3633    2015-05-05      2015-05-05          PASSED          411  3176718735   \n",
       "3634    2015-06-01      2015-06-02          PASSED          547  3168208620   \n",
       "3635    2015-04-06      2015-04-13          PASSED          547  3176718735   \n",
       "3636    2015-05-03      2015-05-04      INCOMPLETE          722  3176718735   \n",
       "3637    2015-01-13      2015-01-22          PASSED          243  3176718735   \n",
       "3638    2015-07-07      2015-07-07      INCOMPLETE          771  3176718735   \n",
       "3639    2015-08-16      2015-08-16          PASSED            2  3176718735   \n",
       "3640    2015-03-03      2015-03-11          PASSED          623  3176718735   \n",
       "3641    2015-07-10      2015-07-11          PASSED         1274  4576183932   \n",
       "\n",
       "     processing_state  \n",
       "0           EVALUATED  \n",
       "1           EVALUATED  \n",
       "2           EVALUATED  \n",
       "3           EVALUATED  \n",
       "4           EVALUATED  \n",
       "5           EVALUATED  \n",
       "6           EVALUATED  \n",
       "7           EVALUATED  \n",
       "8           EVALUATED  \n",
       "9           EVALUATED  \n",
       "10          EVALUATED  \n",
       "11          EVALUATED  \n",
       "12          EVALUATED  \n",
       "13          EVALUATED  \n",
       "14          EVALUATED  \n",
       "15          EVALUATED  \n",
       "16          EVALUATED  \n",
       "17          EVALUATED  \n",
       "18          EVALUATED  \n",
       "19          EVALUATED  \n",
       "20          EVALUATED  \n",
       "21          EVALUATED  \n",
       "22          EVALUATED  \n",
       "23          EVALUATED  \n",
       "24          EVALUATED  \n",
       "25          EVALUATED  \n",
       "26          EVALUATED  \n",
       "27          EVALUATED  \n",
       "28          EVALUATED  \n",
       "29          EVALUATED  \n",
       "...               ...  \n",
       "3612        EVALUATED  \n",
       "3613        EVALUATED  \n",
       "3614        EVALUATED  \n",
       "3615        EVALUATED  \n",
       "3616        EVALUATED  \n",
       "3617        EVALUATED  \n",
       "3618        EVALUATED  \n",
       "3619        EVALUATED  \n",
       "3620        EVALUATED  \n",
       "3621        EVALUATED  \n",
       "3622        EVALUATED  \n",
       "3623        EVALUATED  \n",
       "3624        EVALUATED  \n",
       "3625        EVALUATED  \n",
       "3626        EVALUATED  \n",
       "3627        EVALUATED  \n",
       "3628        EVALUATED  \n",
       "3629        EVALUATED  \n",
       "3630        EVALUATED  \n",
       "3631        EVALUATED  \n",
       "3632        EVALUATED  \n",
       "3633        EVALUATED  \n",
       "3634        EVALUATED  \n",
       "3635        EVALUATED  \n",
       "3636        EVALUATED  \n",
       "3637        EVALUATED  \n",
       "3638        EVALUATED  \n",
       "3639        EVALUATED  \n",
       "3640        EVALUATED  \n",
       "3641        EVALUATED  \n",
       "\n",
       "[3634 rows x 6 columns]"
      ]
     },
     "execution_count": 261,
     "metadata": {},
     "output_type": "execute_result"
    }
   ],
   "source": [
    "submissions"
   ]
  },
  {
   "cell_type": "code",
   "execution_count": null,
   "metadata": {
    "collapsed": true
   },
   "outputs": [],
   "source": []
  }
 ],
 "metadata": {
  "anaconda-cloud": {},
  "kernelspec": {
   "display_name": "Python 3",
   "language": "python",
   "name": "python3"
  },
  "language_info": {
   "codemirror_mode": {
    "name": "ipython",
    "version": 3
   },
   "file_extension": ".py",
   "mimetype": "text/x-python",
   "name": "python",
   "nbconvert_exporter": "python",
   "pygments_lexer": "ipython3",
   "version": "3.6.0"
  }
 },
 "nbformat": 4,
 "nbformat_minor": 1
}
